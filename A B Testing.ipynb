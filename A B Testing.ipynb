{
 "cells": [
  {
   "cell_type": "code",
   "execution_count": 1,
   "id": "44840c7f",
   "metadata": {},
   "outputs": [],
   "source": [
    "import numpy as np\n",
    "import pandas as pd\n",
    "import seaborn as sns\n",
    "from scipy.stats import chi2_contingency, beta"
   ]
  },
  {
   "cell_type": "code",
   "execution_count": 2,
   "id": "04309a3d",
   "metadata": {},
   "outputs": [
    {
     "data": {
      "text/html": [
       "<div>\n",
       "<style scoped>\n",
       "    .dataframe tbody tr th:only-of-type {\n",
       "        vertical-align: middle;\n",
       "    }\n",
       "\n",
       "    .dataframe tbody tr th {\n",
       "        vertical-align: top;\n",
       "    }\n",
       "\n",
       "    .dataframe thead th {\n",
       "        text-align: right;\n",
       "    }\n",
       "</style>\n",
       "<table border=\"1\" class=\"dataframe\">\n",
       "  <thead>\n",
       "    <tr style=\"text-align: right;\">\n",
       "      <th></th>\n",
       "      <th>user_id</th>\n",
       "      <th>timestamp</th>\n",
       "      <th>group</th>\n",
       "      <th>landing_page</th>\n",
       "      <th>converted</th>\n",
       "    </tr>\n",
       "  </thead>\n",
       "  <tbody>\n",
       "    <tr>\n",
       "      <th>0</th>\n",
       "      <td>851104</td>\n",
       "      <td>2017-01-21 22:11:48.556739</td>\n",
       "      <td>control</td>\n",
       "      <td>old_page</td>\n",
       "      <td>0</td>\n",
       "    </tr>\n",
       "    <tr>\n",
       "      <th>1</th>\n",
       "      <td>804228</td>\n",
       "      <td>2017-01-12 08:01:45.159739</td>\n",
       "      <td>control</td>\n",
       "      <td>old_page</td>\n",
       "      <td>0</td>\n",
       "    </tr>\n",
       "    <tr>\n",
       "      <th>2</th>\n",
       "      <td>661590</td>\n",
       "      <td>2017-01-11 16:55:06.154213</td>\n",
       "      <td>treatment</td>\n",
       "      <td>new_page</td>\n",
       "      <td>0</td>\n",
       "    </tr>\n",
       "    <tr>\n",
       "      <th>3</th>\n",
       "      <td>853541</td>\n",
       "      <td>2017-01-08 18:28:03.143765</td>\n",
       "      <td>treatment</td>\n",
       "      <td>new_page</td>\n",
       "      <td>0</td>\n",
       "    </tr>\n",
       "    <tr>\n",
       "      <th>4</th>\n",
       "      <td>864975</td>\n",
       "      <td>2017-01-21 01:52:26.210827</td>\n",
       "      <td>control</td>\n",
       "      <td>old_page</td>\n",
       "      <td>1</td>\n",
       "    </tr>\n",
       "  </tbody>\n",
       "</table>\n",
       "</div>"
      ],
      "text/plain": [
       "   user_id                   timestamp      group landing_page  converted\n",
       "0   851104  2017-01-21 22:11:48.556739    control     old_page          0\n",
       "1   804228  2017-01-12 08:01:45.159739    control     old_page          0\n",
       "2   661590  2017-01-11 16:55:06.154213  treatment     new_page          0\n",
       "3   853541  2017-01-08 18:28:03.143765  treatment     new_page          0\n",
       "4   864975  2017-01-21 01:52:26.210827    control     old_page          1"
      ]
     },
     "execution_count": 2,
     "metadata": {},
     "output_type": "execute_result"
    }
   ],
   "source": [
    "df=pd.read_csv('/Users/ankitshastri/Downloads/ab_data.csv')\n",
    "df.head()"
   ]
  },
  {
   "cell_type": "code",
   "execution_count": 3,
   "id": "3b6efb94",
   "metadata": {},
   "outputs": [
    {
     "name": "stdout",
     "output_type": "stream",
     "text": [
      "<class 'pandas.core.frame.DataFrame'>\n",
      "RangeIndex: 294478 entries, 0 to 294477\n",
      "Data columns (total 5 columns):\n",
      " #   Column        Non-Null Count   Dtype \n",
      "---  ------        --------------   ----- \n",
      " 0   user_id       294478 non-null  int64 \n",
      " 1   timestamp     294478 non-null  object\n",
      " 2   group         294478 non-null  object\n",
      " 3   landing_page  294478 non-null  object\n",
      " 4   converted     294478 non-null  int64 \n",
      "dtypes: int64(2), object(3)\n",
      "memory usage: 11.2+ MB\n"
     ]
    }
   ],
   "source": [
    "df.info()"
   ]
  },
  {
   "cell_type": "markdown",
   "id": "78f9b008",
   "metadata": {},
   "source": [
    "### This is a webpage design data, with control group representing users who were exposed to old design and treatment group represnting users who were exposed to new design.\n",
    "### The converted column is toggled to 1, where the user is successfully converted as a customer, otherwise it is populated as 0.\n",
    "### The idea is to assess whether the new design was successfully able to convert more users into successful customers, with statistical significance."
   ]
  },
  {
   "cell_type": "code",
   "execution_count": 4,
   "id": "d6710cd4",
   "metadata": {},
   "outputs": [
    {
     "data": {
      "text/html": [
       "<div>\n",
       "<style scoped>\n",
       "    .dataframe tbody tr th:only-of-type {\n",
       "        vertical-align: middle;\n",
       "    }\n",
       "\n",
       "    .dataframe tbody tr th {\n",
       "        vertical-align: top;\n",
       "    }\n",
       "\n",
       "    .dataframe thead th {\n",
       "        text-align: right;\n",
       "    }\n",
       "</style>\n",
       "<table border=\"1\" class=\"dataframe\">\n",
       "  <thead>\n",
       "    <tr style=\"text-align: right;\">\n",
       "      <th></th>\n",
       "      <th>user_id</th>\n",
       "    </tr>\n",
       "  </thead>\n",
       "  <tbody>\n",
       "    <tr>\n",
       "      <th>True</th>\n",
       "      <td>286690</td>\n",
       "    </tr>\n",
       "    <tr>\n",
       "      <th>False</th>\n",
       "      <td>3894</td>\n",
       "    </tr>\n",
       "  </tbody>\n",
       "</table>\n",
       "</div>"
      ],
      "text/plain": [
       "       user_id\n",
       "True    286690\n",
       "False     3894"
      ]
     },
     "execution_count": 4,
     "metadata": {},
     "output_type": "execute_result"
    }
   ],
   "source": [
    "pd.DataFrame((df['user_id'].value_counts()==1).value_counts())"
   ]
  },
  {
   "cell_type": "code",
   "execution_count": 5,
   "id": "4e34e23e",
   "metadata": {},
   "outputs": [],
   "source": [
    "count=df['user_id'].value_counts()\n",
    "unique_users=pd.DataFrame(count[count == 1].index, columns=['user_id'])\n",
    "df = df.merge(unique_users, on=['user_id'])"
   ]
  },
  {
   "cell_type": "code",
   "execution_count": 6,
   "id": "a0d493fa",
   "metadata": {},
   "outputs": [
    {
     "data": {
      "text/plain": [
       "(286690, 5)"
      ]
     },
     "execution_count": 6,
     "metadata": {},
     "output_type": "execute_result"
    }
   ],
   "source": [
    "df.shape"
   ]
  },
  {
   "cell_type": "code",
   "execution_count": 7,
   "id": "9d567693",
   "metadata": {},
   "outputs": [
    {
     "data": {
      "text/plain": [
       "<Axes: xlabel='group', ylabel='Count'>"
      ]
     },
     "execution_count": 7,
     "metadata": {},
     "output_type": "execute_result"
    },
    {
     "data": {
      "image/png": "[encoded data removed]",
      "text/plain": [
       "<Figure size 640x480 with 1 Axes>"
      ]
     },
     "metadata": {},
     "output_type": "display_data"
    }
   ],
   "source": [
    "sns.histplot(df['group'])"
   ]
  },
  {
   "cell_type": "code",
   "execution_count": 8,
   "id": "738b87e4",
   "metadata": {},
   "outputs": [
    {
     "data": {
      "text/plain": [
       "0.4998186194146988"
      ]
     },
     "execution_count": 8,
     "metadata": {},
     "output_type": "execute_result"
    }
   ],
   "source": [
    "#Proportion of users in either control or treatment group\n",
    "control=df[df['group']=='control'].shape[0]/df.shape[0]\n",
    "control"
   ]
  },
  {
   "cell_type": "code",
   "execution_count": 9,
   "id": "276c1fb5",
   "metadata": {},
   "outputs": [
    {
     "data": {
      "text/plain": [
       "<Axes: xlabel='converted', ylabel='Count'>"
      ]
     },
     "execution_count": 9,
     "metadata": {},
     "output_type": "execute_result"
    },
    {
     "data": {
      "image/png": "[encoded data removed]",
      "text/plain": [
       "<Figure size 640x480 with 1 Axes>"
      ]
     },
     "metadata": {},
     "output_type": "display_data"
    }
   ],
   "source": [
    "sns.histplot(df['converted'])"
   ]
  },
  {
   "cell_type": "code",
   "execution_count": 10,
   "id": "057ff32e",
   "metadata": {},
   "outputs": [
    {
     "data": {
      "text/plain": [
       "pandas.core.series.Series"
      ]
     },
     "execution_count": 10,
     "metadata": {},
     "output_type": "execute_result"
    }
   ],
   "source": [
    "type(df['timestamp'])"
   ]
  },
  {
   "cell_type": "code",
   "execution_count": 11,
   "id": "715d2eb6",
   "metadata": {},
   "outputs": [
    {
     "data": {
      "text/plain": [
       "pandas._libs.tslibs.timestamps.Timestamp"
      ]
     },
     "execution_count": 11,
     "metadata": {},
     "output_type": "execute_result"
    }
   ],
   "source": [
    "df['timestamp']=pd.to_datetime(df['timestamp'], format= '%Y-%m-%d %H:%M:%S.%f')\n",
    "type(df['timestamp'][0])"
   ]
  },
  {
   "cell_type": "code",
   "execution_count": 12,
   "id": "70d85df5",
   "metadata": {},
   "outputs": [
    {
     "data": {
      "text/html": [
       "<div>\n",
       "<style scoped>\n",
       "    .dataframe tbody tr th:only-of-type {\n",
       "        vertical-align: middle;\n",
       "    }\n",
       "\n",
       "    .dataframe tbody tr th {\n",
       "        vertical-align: top;\n",
       "    }\n",
       "\n",
       "    .dataframe thead th {\n",
       "        text-align: right;\n",
       "    }\n",
       "</style>\n",
       "<table border=\"1\" class=\"dataframe\">\n",
       "  <thead>\n",
       "    <tr style=\"text-align: right;\">\n",
       "      <th></th>\n",
       "      <th>user_id</th>\n",
       "      <th>timestamp</th>\n",
       "      <th>group</th>\n",
       "      <th>landing_page</th>\n",
       "      <th>converted</th>\n",
       "      <th>Week_Number</th>\n",
       "    </tr>\n",
       "  </thead>\n",
       "  <tbody>\n",
       "    <tr>\n",
       "      <th>0</th>\n",
       "      <td>851104</td>\n",
       "      <td>2017-01-21 22:11:48.556739</td>\n",
       "      <td>control</td>\n",
       "      <td>old_page</td>\n",
       "      <td>0</td>\n",
       "      <td>3</td>\n",
       "    </tr>\n",
       "    <tr>\n",
       "      <th>1</th>\n",
       "      <td>804228</td>\n",
       "      <td>2017-01-12 08:01:45.159739</td>\n",
       "      <td>control</td>\n",
       "      <td>old_page</td>\n",
       "      <td>0</td>\n",
       "      <td>2</td>\n",
       "    </tr>\n",
       "    <tr>\n",
       "      <th>2</th>\n",
       "      <td>661590</td>\n",
       "      <td>2017-01-11 16:55:06.154213</td>\n",
       "      <td>treatment</td>\n",
       "      <td>new_page</td>\n",
       "      <td>0</td>\n",
       "      <td>2</td>\n",
       "    </tr>\n",
       "    <tr>\n",
       "      <th>3</th>\n",
       "      <td>853541</td>\n",
       "      <td>2017-01-08 18:28:03.143765</td>\n",
       "      <td>treatment</td>\n",
       "      <td>new_page</td>\n",
       "      <td>0</td>\n",
       "      <td>1</td>\n",
       "    </tr>\n",
       "    <tr>\n",
       "      <th>4</th>\n",
       "      <td>864975</td>\n",
       "      <td>2017-01-21 01:52:26.210827</td>\n",
       "      <td>control</td>\n",
       "      <td>old_page</td>\n",
       "      <td>1</td>\n",
       "      <td>3</td>\n",
       "    </tr>\n",
       "  </tbody>\n",
       "</table>\n",
       "</div>"
      ],
      "text/plain": [
       "   user_id                  timestamp      group landing_page  converted  \\\n",
       "0   851104 2017-01-21 22:11:48.556739    control     old_page          0   \n",
       "1   804228 2017-01-12 08:01:45.159739    control     old_page          0   \n",
       "2   661590 2017-01-11 16:55:06.154213  treatment     new_page          0   \n",
       "3   853541 2017-01-08 18:28:03.143765  treatment     new_page          0   \n",
       "4   864975 2017-01-21 01:52:26.210827    control     old_page          1   \n",
       "\n",
       "   Week_Number  \n",
       "0            3  \n",
       "1            2  \n",
       "2            2  \n",
       "3            1  \n",
       "4            3  "
      ]
     },
     "execution_count": 12,
     "metadata": {},
     "output_type": "execute_result"
    }
   ],
   "source": [
    "df['Week_Number'] = df['timestamp'].dt.isocalendar().week\n",
    "df.head()"
   ]
  },
  {
   "cell_type": "code",
   "execution_count": 13,
   "id": "5ccb4cbd",
   "metadata": {},
   "outputs": [
    {
     "data": {
      "text/plain": [
       "2    91380\n",
       "3    91056\n",
       "1    83745\n",
       "4    20509\n",
       "Name: Week_Number, dtype: Int64"
      ]
     },
     "execution_count": 13,
     "metadata": {},
     "output_type": "execute_result"
    }
   ],
   "source": [
    "df['Week_Number'].value_counts()"
   ]
  },
  {
   "cell_type": "markdown",
   "id": "9539b292",
   "metadata": {},
   "source": [
    "## Frequentist Approach "
   ]
  },
  {
   "cell_type": "code",
   "execution_count": 14,
   "id": "560e48f6",
   "metadata": {},
   "outputs": [
    {
     "name": "stdout",
     "output_type": "stream",
     "text": [
      "Treatment Conversion Rate: 11.873%\n",
      "Control Conversion Rate: 12.017%\n",
      "Lift = -0.144%\n"
     ]
    }
   ],
   "source": [
    "NUM_WEEKS = 4 # Vary number to get experiment data at weekly points in time\n",
    "experiment_data = df[df['Week_Number'] <= NUM_WEEKS]\n",
    "control = experiment_data[experiment_data['group']=='control']\n",
    "treatment = experiment_data[experiment_data['group']=='treatment']\n",
    "\n",
    "control_conversion_perc = round(control['converted'].sum() * 100/ control['converted'].count(), 3)\n",
    "treatment_conversion_perc = round(treatment['converted'].sum() * 100/ treatment['converted'].count(), 3)\n",
    "lift = round(treatment_conversion_perc - control_conversion_perc, 3)\n",
    "\n",
    "print(f\"Treatment Conversion Rate: {treatment_conversion_perc}%\")\n",
    "print(f\"Control Conversion Rate: {control_conversion_perc}%\")\n",
    "print(f\"Lift = {lift}%\")"
   ]
  },
  {
   "cell_type": "markdown",
   "id": "ea709c09",
   "metadata": {},
   "source": [
    "### Null hypothesis: Control and teartment groups are independent "
   ]
  },
  {
   "cell_type": "code",
   "execution_count": 15,
   "id": "806eda60",
   "metadata": {},
   "outputs": [
    {
     "data": {
      "text/plain": [
       "array([[ 17220, 126073],\n",
       "       [ 17025, 126372]])"
      ]
     },
     "execution_count": 15,
     "metadata": {},
     "output_type": "execute_result"
    }
   ],
   "source": [
    "#Contingency table for Chis-squared test\n",
    "# Create Contingency Table for Chi Squared Test\n",
    "control_converted = control['converted'].sum()\n",
    "treatment_converted = treatment['converted'].sum()\n",
    "control_non_converted = control['converted'].count() - control_converted\n",
    "treatment_non_converted = treatment['converted'].count() - treatment_converted\n",
    "contingency_table = np.array([[control_converted, control_non_converted], \n",
    "                              [treatment_converted, treatment_non_converted]])\n",
    "contingency_table"
   ]
  },
  {
   "cell_type": "code",
   "execution_count": 16,
   "id": "4b828748",
   "metadata": {},
   "outputs": [
    {
     "data": {
      "text/plain": [
       "(1.426794609399621, 0.23228827305833816)"
      ]
     },
     "execution_count": 16,
     "metadata": {},
     "output_type": "execute_result"
    }
   ],
   "source": [
    "chi, p_value, _, _ = chi2_contingency(contingency_table, correction=False)\n",
    "chi, p_value"
   ]
  },
  {
   "cell_type": "markdown",
   "id": "3740d6b3",
   "metadata": {},
   "source": [
    "### Since p value is greater than 0.05, we fail to reject the null hypothesis, that is accept that control group and treatment group are indeed independent "
   ]
  },
  {
   "cell_type": "markdown",
   "id": "1bfa26a4",
   "metadata": {},
   "source": [
    "## Bayesian Approach "
   ]
  },
  {
   "cell_type": "code",
   "execution_count": 17,
   "id": "9d1b7c18",
   "metadata": {},
   "outputs": [],
   "source": [
    "#We use Beta distribution as our prior distribution."
   ]
  },
  {
   "cell_type": "code",
   "execution_count": 32,
   "id": "09003740",
   "metadata": {},
   "outputs": [],
   "source": [
    "prior = df[(df['Week_Number'] == 1)]\n",
    "prior_means = []\n",
    "for i in range(10000):\n",
    "   prior_means.append(prior.sample(1000)['converted'].mean())"
   ]
  },
  {
   "cell_type": "code",
   "execution_count": 33,
   "id": "d129e706",
   "metadata": {},
   "outputs": [
    {
     "data": {
      "text/plain": [
       "[0.127, 0.122, 0.117, 0.12, 0.124]"
      ]
     },
     "execution_count": 33,
     "metadata": {},
     "output_type": "execute_result"
    }
   ],
   "source": [
    "prior_means[:5]"
   ]
  },
  {
   "cell_type": "code",
   "execution_count": 34,
   "id": "933c79fd",
   "metadata": {},
   "outputs": [],
   "source": [
    "prior_alpha, prior_beta, _, _ = beta.fit(prior_means, floc=0, fscale=1)"
   ]
  },
  {
   "cell_type": "code",
   "execution_count": 35,
   "id": "8437958f",
   "metadata": {},
   "outputs": [
    {
     "name": "stdout",
     "output_type": "stream",
     "text": [
      "Treatment Conversion Rate: 12.055%\n",
      "Control Conversion Rate: 12.342%\n",
      "Lift = -0.023%\n"
     ]
    }
   ],
   "source": [
    "NUM_WEEKS = 4 # Vary number to get experiment data at weekly points in time\n",
    "experiment_data = df[(df['Week_Number'] > 3) & (df['Week_Number'] <= NUM_WEEKS)]\n",
    "control = experiment_data[experiment_data['group']=='control']\n",
    "treatment = experiment_data[experiment_data['group']=='treatment']\n",
    "\n",
    "control_conversion_perc = round(control['converted'].sum() * 100/ control['converted'].count(), 3)\n",
    "treatment_conversion_perc = round(treatment['converted'].sum() * 100/ treatment['converted'].count(), 3)\n",
    "lift = round((treatment_conversion_perc - control_conversion_perc) / control_conversion_perc , 3)\n",
    "\n",
    "print(f\"Treatment Conversion Rate: {treatment_conversion_perc}%\")\n",
    "print(f\"Control Conversion Rate: {control_conversion_perc}%\")\n",
    "print(f\"Lift = {lift}%\")"
   ]
  },
  {
   "cell_type": "code",
   "execution_count": 36,
   "id": "ba228463",
   "metadata": {},
   "outputs": [
    {
     "name": "stdout",
     "output_type": "stream",
     "text": [
      "Probability that treatment > control: 27.500000000000004%\n"
     ]
    }
   ],
   "source": [
    "control_converted = control['converted'].sum()\n",
    "treatment_converted = treatment['converted'].sum()\n",
    "control_non_converted = control['converted'].count() - control_converted\n",
    "treatment_non_converted = treatment['converted'].count() - treatment_converted\n",
    "\n",
    "# Update Prior parameters with experiment conversion rates\n",
    "posterior_control = beta(prior_alpha + control_converted, prior_beta + control_non_converted)\n",
    "posterior_treatment = beta(prior_alpha + treatment_converted, prior_beta + treatment_non_converted)\n",
    "\n",
    "# Sample from Posteriors\n",
    "control_samples = posterior_control.rvs(1000)\n",
    "treatment_samples = posterior_treatment.rvs(1000)\n",
    "probability = np.mean(treatment_samples > control_samples)\n",
    "print(f\"Probability that treatment > control: {probability * 100}%\")"
   ]
  },
  {
   "cell_type": "code",
   "execution_count": 37,
   "id": "7ab37e27",
   "metadata": {},
   "outputs": [
    {
     "name": "stdout",
     "output_type": "stream",
     "text": [
      "Control Posterior: Mean: 0.12298023638313225, Variance: 9.509291471585444e-06\n",
      "Treatment Posterior: Mean: 0.120365138934023, Variance: 9.476028308177646e-06\n"
     ]
    }
   ],
   "source": [
    "(control_mu), (control_var) = posterior_control.stats()\n",
    "(treatment_mu), (treatment_var) = posterior_treatment.stats()\n",
    "print(f\"Control Posterior: Mean: {control_mu}, Variance: {control_var}\") \n",
    "print(f\"Treatment Posterior: Mean: {treatment_mu}, Variance: {treatment_var}\")"
   ]
  },
  {
   "cell_type": "code",
   "execution_count": 38,
   "id": "fe71b81a",
   "metadata": {},
   "outputs": [
    {
     "name": "stdout",
     "output_type": "stream",
     "text": [
      "Probability that we see a 1% lift: 18.7%\n"
     ]
    }
   ],
   "source": [
    "lift_percentage = (treatment_samples - control_samples) / control_samples\n",
    "print(f\"Probability that we see a 1% lift: {np.mean((100 * lift_percentage) > 1) * 100}%\")"
   ]
  },
  {
   "cell_type": "markdown",
   "id": "6c93e37f",
   "metadata": {},
   "source": [
    "## Hence, with the Bayesian approach the results can be easiy converted into business metric for decision making, which is not entirely possible with frequnetist appraoch, which provides information only about the failure to reject or  rejection of Null hypothesis."
   ]
  },
  {
   "cell_type": "markdown",
   "id": "cc0693f0",
   "metadata": {},
   "source": [
    " def stratified_sample_df(df, col, n_samples):\n",
    "    n = min(n_samples, df[col].value_counts().min())\n",
    "    df_ = df.groupby(col).apply(lambda x: x.sample(n))\n",
    "    df_.index = df_.index.droplevel(0)\n",
    "    return df_"
   ]
  }
 ],
 "metadata": {
  "kernelspec": {
   "display_name": "Python 3 (ipykernel)",
   "language": "python",
   "name": "python3"
  },
  "language_info": {
   "codemirror_mode": {
    "name": "ipython",
    "version": 3
   },
   "file_extension": ".py",
   "mimetype": "text/x-python",
   "name": "python",
   "nbconvert_exporter": "python",
   "pygments_lexer": "ipython3",
   "version": "3.10.9"
  }
 },
 "nbformat": 4,
 "nbformat_minor": 5
}
